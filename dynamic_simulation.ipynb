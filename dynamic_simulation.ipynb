{
 "cells": [
  {
   "cell_type": "markdown",
   "id": "78ca1744",
   "metadata": {},
   "source": [
    "# Aircraft Control And Simulation\n",
    "\n",
    "*From Aircraft Control And Simulation: Dynamics, Controls Design, and autonomous System, STEVENS, Brian L., 3rd Edition.*\n",
    "\n",
    "## Steady-State Conditions for Linearization:\n",
    "- $\\beta$, $\\phi$, $P$, $Q$, $R$ $\\equiv 0$\n",
    "- All derivates $\\equiv 0$\n",
    "- $V_{T}=V_{T_{e}}$, $\\alpha=\\alpha_{e}$, $\\theta=\\theta_{e}$, $\\psi \\equiv 0$, $\\gamma_{e} \\equiv 0$ "
   ]
  }
 ],
 "metadata": {
  "kernelspec": {
   "display_name": "labvirt-ws-AdxHRlXz-py3.10",
   "language": "python",
   "name": "python3"
  },
  "language_info": {
   "codemirror_mode": {
    "name": "ipython",
    "version": 3
   },
   "file_extension": ".py",
   "mimetype": "text/x-python",
   "name": "python",
   "nbconvert_exporter": "python",
   "pygments_lexer": "ipython3",
   "version": "3.10.12"
  }
 },
 "nbformat": 4,
 "nbformat_minor": 5
}
